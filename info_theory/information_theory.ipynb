{
 "cells": [
  {
   "cell_type": "markdown",
   "metadata": {},
   "source": [
    "# Information Theory and Wordle"
   ]
  },
  {
   "cell_type": "markdown",
   "metadata": {},
   "source": [
    "### Information Content Versus Hit Rate\n",
    "\n",
    "Information and probability are related\n",
    "\n",
    "Mathematician Claude Shannon was the founder of information theory and defined a measure of information content\n",
    "\n",
    "When it comes to wordle, suppose one has a space with possible events - Wordle has 2,309 possible solutions. One bit of information then corresponds to the feedback that halves the solution space, such as if the solution word contains the letter S, for example (about half of all solutions have at least one S).\n",
    "\n",
    "Two bits of information clear out three quarters of the solutions - such as whena solution word contains a T. And with three bits of information, only one eigth of all words remain. This means that the more likely a letter is to be contained in the solution, the smaller its information content is."
   ]
  },
  {
   "cell_type": "code",
   "execution_count": 102,
   "metadata": {},
   "outputs": [],
   "source": [
    "# Libraries\n",
    "from prob_functions import probability_of_letter\n",
    "from wordle import load_words\n",
    "import random"
   ]
  },
  {
   "cell_type": "code",
   "execution_count": 103,
   "metadata": {},
   "outputs": [
    {
     "name": "stdout",
     "output_type": "stream",
     "text": [
      "dict_keys(['j', 'q', 'x', 'z', 'v'])\n",
      "274\n",
      "liver\n"
     ]
    }
   ],
   "source": [
    "alphabet = [\n",
    "    'a', 'b', 'c', 'd', 'e',\n",
    "    'f', 'g', 'h', 'i', 'j',\n",
    "    'k', 'l', 'm', 'n', 'o',\n",
    "    'p', 'q', 'r', 's', 't',\n",
    "    'u', 'v', 'w', 'x', 'y',\n",
    "    'z'\n",
    "]\n",
    "\n",
    "letter_probabilities = {}\n",
    "\n",
    "word_list = load_words('smaller_wordlist.txt')\n",
    "\n",
    "for letter in alphabet:\n",
    "    prob = probability_of_letter(letter, word_list)\n",
    "    letter_probabilities[letter] = prob\n",
    "    \n",
    "sorted_letter_probabilities = sorted(letter_probabilities)\n",
    "\n",
    "sorted_dict = dict(sorted(letter_probabilities.items(), key=lambda x: x[1])[:5])\n",
    "print(sorted_dict.keys())\n",
    "\n",
    "first_word_wordlist = []\n",
    "\n",
    "for word in word_list:\n",
    "    for letter in word:\n",
    "        if letter in sorted_dict.keys() and word not in first_word_wordlist:\n",
    "            first_word_wordlist.append(word)\n",
    "            \n",
    "print(len(first_word_wordlist))\n",
    "\n",
    "first_guess = random.choice(first_word_wordlist)\n",
    "\n",
    "print(first_guess)"
   ]
  }
 ],
 "metadata": {
  "kernelspec": {
   "display_name": "Python 3",
   "language": "python",
   "name": "python3"
  },
  "language_info": {
   "codemirror_mode": {
    "name": "ipython",
    "version": 3
   },
   "file_extension": ".py",
   "mimetype": "text/x-python",
   "name": "python",
   "nbconvert_exporter": "python",
   "pygments_lexer": "ipython3",
   "version": "3.12.4"
  }
 },
 "nbformat": 4,
 "nbformat_minor": 2
}
